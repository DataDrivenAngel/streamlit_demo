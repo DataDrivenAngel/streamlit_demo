{
 "cells": [
  {
   "cell_type": "code",
   "execution_count": 7,
   "metadata": {},
   "outputs": [],
   "source": [
    "import requests as re\n",
    "from bs4 import BeautifulSoup\n",
    "import pandas as pd\n",
    "import lxml\n",
    "import sqlite3 as db\n",
    "import time"
   ]
  },
  {
   "cell_type": "code",
   "execution_count": 8,
   "metadata": {},
   "outputs": [],
   "source": [
    "url = 'https://www2.montgomerycountymd.gov/mcgportalapps/ElectionLocation.aspx?EarlyVoting=1&flag=1'"
   ]
  },
  {
   "cell_type": "code",
   "execution_count": 9,
   "metadata": {},
   "outputs": [],
   "source": [
    "r = re.get(url)\n",
    "soup = BeautifulSoup(r.content)\n",
    "\n",
    "table = soup.find('table')\n",
    "df = pd.read_html(str(table))[0]\n",
    "df['timestamp'] = time.time()\n",
    "#print(df)"
   ]
  },
  {
   "cell_type": "code",
   "execution_count": 10,
   "metadata": {},
   "outputs": [],
   "source": [
    "con = db.connect('scrape_db.db')"
   ]
  },
  {
   "cell_type": "code",
   "execution_count": 12,
   "metadata": {},
   "outputs": [],
   "source": [
    "df.to_sql(name='scrape',con=con , if_exists = 'append')"
   ]
  },
  {
   "cell_type": "code",
   "execution_count": 13,
   "metadata": {},
   "outputs": [
    {
     "data": {
      "text/html": [
       "<div>\n",
       "<style scoped>\n",
       "    .dataframe tbody tr th:only-of-type {\n",
       "        vertical-align: middle;\n",
       "    }\n",
       "\n",
       "    .dataframe tbody tr th {\n",
       "        vertical-align: top;\n",
       "    }\n",
       "\n",
       "    .dataframe thead th {\n",
       "        text-align: right;\n",
       "    }\n",
       "</style>\n",
       "<table border=\"1\" class=\"dataframe\">\n",
       "  <thead>\n",
       "    <tr style=\"text-align: right;\">\n",
       "      <th></th>\n",
       "      <th>Location Name</th>\n",
       "      <th>Address</th>\n",
       "      <th>City</th>\n",
       "      <th>Zip Code</th>\n",
       "      <th>Wait Time(Mins)</th>\n",
       "      <th>Map</th>\n",
       "      <th>timestamp</th>\n",
       "    </tr>\n",
       "  </thead>\n",
       "  <tbody>\n",
       "    <tr>\n",
       "      <th>0</th>\n",
       "      <td>WHEATON REC CENTER</td>\n",
       "      <td>11701 Georgia Ave</td>\n",
       "      <td>Wheaton</td>\n",
       "      <td>20902</td>\n",
       "      <td>0</td>\n",
       "      <td>Map link</td>\n",
       "      <td>1.603733e+09</td>\n",
       "    </tr>\n",
       "    <tr>\n",
       "      <th>1</th>\n",
       "      <td>DAMASCUS REC CENTER</td>\n",
       "      <td>25520 Oak Dr</td>\n",
       "      <td>Damascus</td>\n",
       "      <td>20872</td>\n",
       "      <td>10</td>\n",
       "      <td>Map link</td>\n",
       "      <td>1.603733e+09</td>\n",
       "    </tr>\n",
       "    <tr>\n",
       "      <th>2</th>\n",
       "      <td>POTOMAC REC CENTER</td>\n",
       "      <td>11315 Falls Rd</td>\n",
       "      <td>Potomac</td>\n",
       "      <td>20854</td>\n",
       "      <td>10</td>\n",
       "      <td>Map link</td>\n",
       "      <td>1.603733e+09</td>\n",
       "    </tr>\n",
       "    <tr>\n",
       "      <th>3</th>\n",
       "      <td>SILVER SPRING CIVIC BUILDING</td>\n",
       "      <td>1 Veterans Pl</td>\n",
       "      <td>Silver Spring</td>\n",
       "      <td>20910</td>\n",
       "      <td>10</td>\n",
       "      <td>Map link</td>\n",
       "      <td>1.603733e+09</td>\n",
       "    </tr>\n",
       "    <tr>\n",
       "      <th>4</th>\n",
       "      <td>GERMANTOWN RECREATION CENTER</td>\n",
       "      <td>18905 Kingsview Rd</td>\n",
       "      <td>Germantown</td>\n",
       "      <td>20874</td>\n",
       "      <td>16</td>\n",
       "      <td>Map link</td>\n",
       "      <td>1.603733e+09</td>\n",
       "    </tr>\n",
       "    <tr>\n",
       "      <th>5</th>\n",
       "      <td>MARILYN PRAISNER REC CENTER</td>\n",
       "      <td>14906 Old Columbia Pike</td>\n",
       "      <td>Burtonsville</td>\n",
       "      <td>20866</td>\n",
       "      <td>20</td>\n",
       "      <td>Map link</td>\n",
       "      <td>1.603733e+09</td>\n",
       "    </tr>\n",
       "    <tr>\n",
       "      <th>6</th>\n",
       "      <td>MID-COUNTY REC CENTER</td>\n",
       "      <td>2004 Queensguard Rd</td>\n",
       "      <td>Silver Spring</td>\n",
       "      <td>20906</td>\n",
       "      <td>20</td>\n",
       "      <td>Map link</td>\n",
       "      <td>1.603733e+09</td>\n",
       "    </tr>\n",
       "    <tr>\n",
       "      <th>7</th>\n",
       "      <td>SANDY SPRING VOLUNTEER FIRE DEPT</td>\n",
       "      <td>17921 Brooke Rd</td>\n",
       "      <td>Sandy Spring</td>\n",
       "      <td>20860</td>\n",
       "      <td>30</td>\n",
       "      <td>Map link</td>\n",
       "      <td>1.603733e+09</td>\n",
       "    </tr>\n",
       "    <tr>\n",
       "      <th>8</th>\n",
       "      <td>JANE LAWTON COMMUNITY RECREATION CENTER</td>\n",
       "      <td>4301 Willow Ln</td>\n",
       "      <td>Chevy Chase</td>\n",
       "      <td>20815</td>\n",
       "      <td>45</td>\n",
       "      <td>Map link</td>\n",
       "      <td>1.603733e+09</td>\n",
       "    </tr>\n",
       "    <tr>\n",
       "      <th>9</th>\n",
       "      <td>ACTIVITY CENTER BOHRER PARK</td>\n",
       "      <td>506 S. Frederick Ave</td>\n",
       "      <td>Gaithersburg</td>\n",
       "      <td>20877</td>\n",
       "      <td>50</td>\n",
       "      <td>Map link</td>\n",
       "      <td>1.603733e+09</td>\n",
       "    </tr>\n",
       "    <tr>\n",
       "      <th>10</th>\n",
       "      <td>EXECUTIVE OFFICE BUILDING</td>\n",
       "      <td>101 Monroe St</td>\n",
       "      <td>Rockville</td>\n",
       "      <td>20850</td>\n",
       "      <td>90</td>\n",
       "      <td>Map link</td>\n",
       "      <td>1.603733e+09</td>\n",
       "    </tr>\n",
       "  </tbody>\n",
       "</table>\n",
       "</div>"
      ],
      "text/plain": [
       "                              Location Name                  Address  \\\n",
       "0                        WHEATON REC CENTER        11701 Georgia Ave   \n",
       "1                       DAMASCUS REC CENTER             25520 Oak Dr   \n",
       "2                        POTOMAC REC CENTER           11315 Falls Rd   \n",
       "3              SILVER SPRING CIVIC BUILDING            1 Veterans Pl   \n",
       "4              GERMANTOWN RECREATION CENTER       18905 Kingsview Rd   \n",
       "5               MARILYN PRAISNER REC CENTER  14906 Old Columbia Pike   \n",
       "6                     MID-COUNTY REC CENTER      2004 Queensguard Rd   \n",
       "7          SANDY SPRING VOLUNTEER FIRE DEPT          17921 Brooke Rd   \n",
       "8   JANE LAWTON COMMUNITY RECREATION CENTER           4301 Willow Ln   \n",
       "9               ACTIVITY CENTER BOHRER PARK     506 S. Frederick Ave   \n",
       "10                EXECUTIVE OFFICE BUILDING            101 Monroe St   \n",
       "\n",
       "             City  Zip Code  Wait Time(Mins)       Map     timestamp  \n",
       "0         Wheaton     20902                0  Map link  1.603733e+09  \n",
       "1        Damascus     20872               10  Map link  1.603733e+09  \n",
       "2         Potomac     20854               10  Map link  1.603733e+09  \n",
       "3   Silver Spring     20910               10  Map link  1.603733e+09  \n",
       "4      Germantown     20874               16  Map link  1.603733e+09  \n",
       "5    Burtonsville     20866               20  Map link  1.603733e+09  \n",
       "6   Silver Spring     20906               20  Map link  1.603733e+09  \n",
       "7    Sandy Spring     20860               30  Map link  1.603733e+09  \n",
       "8     Chevy Chase     20815               45  Map link  1.603733e+09  \n",
       "9    Gaithersburg     20877               50  Map link  1.603733e+09  \n",
       "10      Rockville     20850               90  Map link  1.603733e+09  "
      ]
     },
     "execution_count": 13,
     "metadata": {},
     "output_type": "execute_result"
    }
   ],
   "source": [
    "df"
   ]
  },
  {
   "cell_type": "code",
   "execution_count": 14,
   "metadata": {},
   "outputs": [],
   "source": [
    "import datetime "
   ]
  },
  {
   "cell_type": "code",
   "execution_count": 26,
   "metadata": {},
   "outputs": [
    {
     "data": {
      "text/plain": [
       "300"
      ]
     },
     "execution_count": 26,
     "metadata": {},
     "output_type": "execute_result"
    }
   ],
   "source": [
    "datetime.date.today().timetuple().tm_yday"
   ]
  },
  {
   "cell_type": "code",
   "execution_count": 29,
   "metadata": {},
   "outputs": [
    {
     "data": {
      "text/plain": [
       "308"
      ]
     },
     "execution_count": 29,
     "metadata": {},
     "output_type": "execute_result"
    }
   ],
   "source": [
    "datetime.date(2020,11,3).timetuple().tm_yday"
   ]
  },
  {
   "cell_type": "code",
   "execution_count": null,
   "metadata": {},
   "outputs": [],
   "source": []
  }
 ],
 "metadata": {
  "kernelspec": {
   "display_name": "Python 3",
   "language": "python",
   "name": "python3"
  },
  "language_info": {
   "codemirror_mode": {
    "name": "ipython",
    "version": 3
   },
   "file_extension": ".py",
   "mimetype": "text/x-python",
   "name": "python",
   "nbconvert_exporter": "python",
   "pygments_lexer": "ipython3",
   "version": "3.8.2"
  }
 },
 "nbformat": 4,
 "nbformat_minor": 4
}
